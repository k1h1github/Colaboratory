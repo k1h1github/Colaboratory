{
  "nbformat": 4,
  "nbformat_minor": 0,
  "metadata": {
    "colab": {
      "name": "ranking.ipynb",
      "provenance": [],
      "authorship_tag": "ABX9TyMawuDB19yLFDUInhczPeCX",
      "include_colab_link": true
    },
    "kernelspec": {
      "name": "python3",
      "display_name": "Python 3"
    },
    "language_info": {
      "name": "python"
    }
  },
  "cells": [
    {
      "cell_type": "markdown",
      "metadata": {
        "id": "view-in-github",
        "colab_type": "text"
      },
      "source": [
        "<a href=\"https://colab.research.google.com/github/k1h1github/Colaboratory/blob/main/ranking.ipynb\" target=\"_parent\"><img src=\"https://colab.research.google.com/assets/colab-badge.svg\" alt=\"Open In Colab\"/></a>"
      ]
    },
    {
      "cell_type": "code",
      "source": [
        "import requests\n",
        "import pandas as pd\n",
        "import datetime\n",
        "import matplotlib.pyplot as plt\n",
        "import time"
      ],
      "metadata": {
        "id": "kyE3ddiZpZ8Z"
      },
      "execution_count": 1,
      "outputs": []
    },
    {
      "cell_type": "code",
      "source": [
        "import urllib\n",
        "\n",
        "apikey = \"2d33b56dd2b74b12\"\n",
        "results_available\t= 100 #★\n",
        "large_area=\"Z011\" #★\n",
        "order = 4 #★\n",
        "keyword = \"中華\" #★\n",
        "url = \"http://webservice.recruit.co.jp/hotpepper/gourmet/v1/?key={}&format=json&results_available={}&large_area={}&order={}&keyword={}\".format(apikey,results_available,large_area,order,keyword)\n",
        "\n",
        "# url = \"http://webservice.recruit.co.jp/hotpepper/gourmet/v1/?key=f'{apikey}'&format=json&results_available=f'{results_available}'&large_area=f'{large_area}'&order=f'{order}'&keyword=f'{keyword}'\"\n",
        "\n",
        "\n",
        "r = requests.get(url)\n",
        "# data = r.json()[\"results\"]\n",
        "data = r.json()[\"results\"][\"shop\"]\n",
        "df = pd.DataFrame(data)"
      ],
      "metadata": {
        "id": "q-zBjdCYcJWg"
      },
      "execution_count": 6,
      "outputs": []
    },
    {
      "cell_type": "code",
      "source": [
        "restaurant_url[0][\"pc\"]"
      ],
      "metadata": {
        "colab": {
          "base_uri": "https://localhost:8080/",
          "height": 35
        },
        "id": "ThuzZ8N7tYzR",
        "outputId": "b048a04e-e1ed-4974-b223-ae572a6fa1f1"
      },
      "execution_count": 46,
      "outputs": [
        {
          "output_type": "execute_result",
          "data": {
            "text/plain": [
              "'https://www.hotpepper.jp/strJ001215764/?vos=nhppalsa000016'"
            ],
            "application/vnd.google.colaboratory.intrinsic+json": {
              "type": "string"
            }
          },
          "metadata": {},
          "execution_count": 46
        }
      ]
    },
    {
      "cell_type": "code",
      "source": [
        "data_num = r.json()[\"results\"][\"results_returned\"]\n",
        "data_num"
      ],
      "metadata": {
        "colab": {
          "base_uri": "https://localhost:8080/",
          "height": 35
        },
        "id": "D3bgJxlw27yL",
        "outputId": "e3b220e6-94ed-47a5-bac8-fc4f8bd7e505"
      },
      "execution_count": 52,
      "outputs": [
        {
          "output_type": "execute_result",
          "data": {
            "text/plain": [
              "'10'"
            ],
            "application/vnd.google.colaboratory.intrinsic+json": {
              "type": "string"
            }
          },
          "metadata": {},
          "execution_count": 52
        }
      ]
    },
    {
      "cell_type": "code",
      "source": [
        "restaurant_df = df.loc[:,[\"name\",\"lat\",\"lng\",\"address\",\"urls\"]]"
      ],
      "metadata": {
        "id": "_JI6-HBX9oJb"
      },
      "execution_count": 7,
      "outputs": []
    },
    {
      "cell_type": "code",
      "source": [
        "import folium\n",
        "import pandas as pd\n",
        "\n",
        "map = folium.Map(location=[restaurant_df[\"lat\"].mean(),restaurant_df[\"lng\"].mean()], zoom_start=10)\n",
        "\n",
        "for i, r in restaurant_df.iterrows():\n",
        "    folium.Marker(location=[r['lat'], r['lng']], popup=r['name']).add_to(map)\n",
        "\n",
        "map\n",
        "# map.save(\"map_train.html\")\n",
        "\n",
        "# from IPython.display import display\n",
        "# display(map)\n",
        "\n",
        "\n",
        "# folium.Marker(\n",
        "#     location=[row['緯度'], row['経度']],\n",
        "#     popup=row['名称'],\n",
        "#     icon=folium.Icon(color='blue')\n",
        "# ).add_to(map)\n",
        "\n",
        "# [‘red’, ‘blue’, ‘green’, ‘purple’, ‘orange’, ‘darkred’, ’lightred’, ‘beige’, ‘darkblue’, ‘darkgreen’, ‘cadetblue’, ‘darkpurple’, ‘white’, ‘pink’, ‘lightblue’, ‘lightgreen’, ‘gray’, ‘black’, ‘lightgray’]。"
      ],
      "metadata": {
        "colab": {
          "base_uri": "https://localhost:8080/",
          "height": 520
        },
        "id": "JY2N-cBB7H7v",
        "outputId": "4c717f2d-d421-463a-e4ed-ea53c46fe64e"
      },
      "execution_count": 9,
      "outputs": [
        {
          "output_type": "execute_result",
          "data": {
            "text/plain": [
              "<folium.folium.Map at 0x7f7625f26650>"
            ],
            "text/html": [
              "<div style=\"width:100%;\"><div style=\"position:relative;width:100%;height:0;padding-bottom:60%;\"><span style=\"color:#565656\">Make this Notebook Trusted to load map: File -> Trust Notebook</span><iframe srcdoc=\"&lt;!DOCTYPE html&gt;\n",
              "&lt;head&gt;    \n",
              "    &lt;meta http-equiv=&quot;content-type&quot; content=&quot;text/html; charset=UTF-8&quot; /&gt;\n",
              "    &lt;script&gt;L_PREFER_CANVAS=false; L_NO_TOUCH=false; L_DISABLE_3D=false;&lt;/script&gt;\n",
              "    &lt;script src=&quot;https://cdn.jsdelivr.net/npm/leaflet@1.4.0/dist/leaflet.js&quot;&gt;&lt;/script&gt;\n",
              "    &lt;script src=&quot;https://code.jquery.com/jquery-1.12.4.min.js&quot;&gt;&lt;/script&gt;\n",
              "    &lt;script src=&quot;https://maxcdn.bootstrapcdn.com/bootstrap/3.2.0/js/bootstrap.min.js&quot;&gt;&lt;/script&gt;\n",
              "    &lt;script src=&quot;https://cdnjs.cloudflare.com/ajax/libs/Leaflet.awesome-markers/2.0.2/leaflet.awesome-markers.js&quot;&gt;&lt;/script&gt;\n",
              "    &lt;link rel=&quot;stylesheet&quot; href=&quot;https://cdn.jsdelivr.net/npm/leaflet@1.4.0/dist/leaflet.css&quot;/&gt;\n",
              "    &lt;link rel=&quot;stylesheet&quot; href=&quot;https://maxcdn.bootstrapcdn.com/bootstrap/3.2.0/css/bootstrap.min.css&quot;/&gt;\n",
              "    &lt;link rel=&quot;stylesheet&quot; href=&quot;https://maxcdn.bootstrapcdn.com/bootstrap/3.2.0/css/bootstrap-theme.min.css&quot;/&gt;\n",
              "    &lt;link rel=&quot;stylesheet&quot; href=&quot;https://maxcdn.bootstrapcdn.com/font-awesome/4.6.3/css/font-awesome.min.css&quot;/&gt;\n",
              "    &lt;link rel=&quot;stylesheet&quot; href=&quot;https://cdnjs.cloudflare.com/ajax/libs/Leaflet.awesome-markers/2.0.2/leaflet.awesome-markers.css&quot;/&gt;\n",
              "    &lt;link rel=&quot;stylesheet&quot; href=&quot;https://rawcdn.githack.com/python-visualization/folium/master/folium/templates/leaflet.awesome.rotate.css&quot;/&gt;\n",
              "    &lt;style&gt;html, body {width: 100%;height: 100%;margin: 0;padding: 0;}&lt;/style&gt;\n",
              "    &lt;style&gt;#map {position:absolute;top:0;bottom:0;right:0;left:0;}&lt;/style&gt;\n",
              "    \n",
              "    &lt;meta name=&quot;viewport&quot; content=&quot;width=device-width,\n",
              "        initial-scale=1.0, maximum-scale=1.0, user-scalable=no&quot; /&gt;\n",
              "    &lt;style&gt;#map_4546a1de56cf48831fafc96a2c56f2de {\n",
              "        position: relative;\n",
              "        width: 100.0%;\n",
              "        height: 100.0%;\n",
              "        left: 0.0%;\n",
              "        top: 0.0%;\n",
              "        }\n",
              "    &lt;/style&gt;\n",
              "&lt;/head&gt;\n",
              "&lt;body&gt;    \n",
              "    \n",
              "    &lt;div class=&quot;folium-map&quot; id=&quot;map_4546a1de56cf48831fafc96a2c56f2de&quot; &gt;&lt;/div&gt;\n",
              "&lt;/body&gt;\n",
              "&lt;script&gt;    \n",
              "    \n",
              "    \n",
              "        var bounds = null;\n",
              "    \n",
              "\n",
              "    var map_4546a1de56cf48831fafc96a2c56f2de = L.map(\n",
              "        &#x27;map_4546a1de56cf48831fafc96a2c56f2de&#x27;, {\n",
              "        center: [35.666773309090004, 139.64732964871],\n",
              "        zoom: 10,\n",
              "        maxBounds: bounds,\n",
              "        layers: [],\n",
              "        worldCopyJump: false,\n",
              "        crs: L.CRS.EPSG3857,\n",
              "        zoomControl: true,\n",
              "        });\n",
              "\n",
              "\n",
              "    \n",
              "    var tile_layer_919f11b2d90949da5dc211f014a8a748 = L.tileLayer(\n",
              "        &#x27;https://{s}.tile.openstreetmap.org/{z}/{x}/{y}.png&#x27;,\n",
              "        {\n",
              "        &quot;attribution&quot;: null,\n",
              "        &quot;detectRetina&quot;: false,\n",
              "        &quot;maxNativeZoom&quot;: 18,\n",
              "        &quot;maxZoom&quot;: 18,\n",
              "        &quot;minZoom&quot;: 0,\n",
              "        &quot;noWrap&quot;: false,\n",
              "        &quot;opacity&quot;: 1,\n",
              "        &quot;subdomains&quot;: &quot;abc&quot;,\n",
              "        &quot;tms&quot;: false\n",
              "}).addTo(map_4546a1de56cf48831fafc96a2c56f2de);\n",
              "    \n",
              "        var marker_a34d49be6db88250b4020fb011fbc69a = L.marker(\n",
              "            [35.6709704241, 139.7602596521],\n",
              "            {\n",
              "                icon: new L.Icon.Default(),\n",
              "                }\n",
              "            ).addTo(map_4546a1de56cf48831fafc96a2c56f2de);\n",
              "        \n",
              "    \n",
              "            var popup_acad62c4dd2afb184682c0dd59a292b2 = L.popup({maxWidth: &#x27;100%&#x27;\n",
              "            \n",
              "            });\n",
              "\n",
              "            \n",
              "                var html_af7bdf9b9c9fa226b49434b09dd89ee5 = $(`&lt;div id=&quot;html_af7bdf9b9c9fa226b49434b09dd89ee5&quot; style=&quot;width: 100.0%; height: 100.0%;&quot;&gt;銀座 スプラッシュ&lt;/div&gt;`)[0];\n",
              "                popup_acad62c4dd2afb184682c0dd59a292b2.setContent(html_af7bdf9b9c9fa226b49434b09dd89ee5);\n",
              "            \n",
              "\n",
              "            marker_a34d49be6db88250b4020fb011fbc69a.bindPopup(popup_acad62c4dd2afb184682c0dd59a292b2)\n",
              "            ;\n",
              "\n",
              "            \n",
              "        \n",
              "    \n",
              "        var marker_6232161d5eadd58369fbc105fbdcbbb0 = L.marker(\n",
              "            [35.6903290941, 139.7712440525],\n",
              "            {\n",
              "                icon: new L.Icon.Default(),\n",
              "                }\n",
              "            ).addTo(map_4546a1de56cf48831fafc96a2c56f2de);\n",
              "        \n",
              "    \n",
              "            var popup_4f1f0166fc010c44bf2ebe2a9546aee1 = L.popup({maxWidth: &#x27;100%&#x27;\n",
              "            \n",
              "            });\n",
              "\n",
              "            \n",
              "                var html_9bb01676c6acf555f03d1fa3649f8794 = $(`&lt;div id=&quot;html_9bb01676c6acf555f03d1fa3649f8794&quot; style=&quot;width: 100.0%; height: 100.0%;&quot;&gt;北海 ホッカイ 神田店&lt;/div&gt;`)[0];\n",
              "                popup_4f1f0166fc010c44bf2ebe2a9546aee1.setContent(html_9bb01676c6acf555f03d1fa3649f8794);\n",
              "            \n",
              "\n",
              "            marker_6232161d5eadd58369fbc105fbdcbbb0.bindPopup(popup_4f1f0166fc010c44bf2ebe2a9546aee1)\n",
              "            ;\n",
              "\n",
              "            \n",
              "        \n",
              "    \n",
              "        var marker_4c2d40f4305cdc1950aec990bfe8525c = L.marker(\n",
              "            [35.6756387199, 139.7681187972],\n",
              "            {\n",
              "                icon: new L.Icon.Default(),\n",
              "                }\n",
              "            ).addTo(map_4546a1de56cf48831fafc96a2c56f2de);\n",
              "        \n",
              "    \n",
              "            var popup_de03a48df15945d276f2b745bc117abf = L.popup({maxWidth: &#x27;100%&#x27;\n",
              "            \n",
              "            });\n",
              "\n",
              "            \n",
              "                var html_82f6af343d8b6c8bacda86873a383cce = $(`&lt;div id=&quot;html_82f6af343d8b6c8bacda86873a383cce&quot; style=&quot;width: 100.0%; height: 100.0%;&quot;&gt;龍記 京橋 銀座店&lt;/div&gt;`)[0];\n",
              "                popup_de03a48df15945d276f2b745bc117abf.setContent(html_82f6af343d8b6c8bacda86873a383cce);\n",
              "            \n",
              "\n",
              "            marker_4c2d40f4305cdc1950aec990bfe8525c.bindPopup(popup_de03a48df15945d276f2b745bc117abf)\n",
              "            ;\n",
              "\n",
              "            \n",
              "        \n",
              "    \n",
              "        var marker_ac10e580d54f46c4ab26e4a807289067 = L.marker(\n",
              "            [35.6918141449, 139.7066739237],\n",
              "            {\n",
              "                icon: new L.Icon.Default(),\n",
              "                }\n",
              "            ).addTo(map_4546a1de56cf48831fafc96a2c56f2de);\n",
              "        \n",
              "    \n",
              "            var popup_84be52ead607ab01305724356981e790 = L.popup({maxWidth: &#x27;100%&#x27;\n",
              "            \n",
              "            });\n",
              "\n",
              "            \n",
              "                var html_aeaede13058d69422f4e55343ee80e37 = $(`&lt;div id=&quot;html_aeaede13058d69422f4e55343ee80e37&quot; style=&quot;width: 100.0%; height: 100.0%;&quot;&gt;上海酒場 新宿三丁目店&lt;/div&gt;`)[0];\n",
              "                popup_84be52ead607ab01305724356981e790.setContent(html_aeaede13058d69422f4e55343ee80e37);\n",
              "            \n",
              "\n",
              "            marker_ac10e580d54f46c4ab26e4a807289067.bindPopup(popup_84be52ead607ab01305724356981e790)\n",
              "            ;\n",
              "\n",
              "            \n",
              "        \n",
              "    \n",
              "        var marker_a16715f31b61d505a992e919d2376fff = L.marker(\n",
              "            [35.6955523295, 139.4142208974],\n",
              "            {\n",
              "                icon: new L.Icon.Default(),\n",
              "                }\n",
              "            ).addTo(map_4546a1de56cf48831fafc96a2c56f2de);\n",
              "        \n",
              "    \n",
              "            var popup_a76fc3c304fcb46c767f85ca36e02cd1 = L.popup({maxWidth: &#x27;100%&#x27;\n",
              "            \n",
              "            });\n",
              "\n",
              "            \n",
              "                var html_04ce60b3b6f745159094414dd200602c = $(`&lt;div id=&quot;html_04ce60b3b6f745159094414dd200602c&quot; style=&quot;width: 100.0%; height: 100.0%;&quot;&gt;dining bar 椛 もみじ&lt;/div&gt;`)[0];\n",
              "                popup_a76fc3c304fcb46c767f85ca36e02cd1.setContent(html_04ce60b3b6f745159094414dd200602c);\n",
              "            \n",
              "\n",
              "            marker_a16715f31b61d505a992e919d2376fff.bindPopup(popup_a76fc3c304fcb46c767f85ca36e02cd1)\n",
              "            ;\n",
              "\n",
              "            \n",
              "        \n",
              "    \n",
              "        var marker_a07056385f7d8a2c5598205fafd329aa = L.marker(\n",
              "            [35.5642862978, 139.4248949231],\n",
              "            {\n",
              "                icon: new L.Icon.Default(),\n",
              "                }\n",
              "            ).addTo(map_4546a1de56cf48831fafc96a2c56f2de);\n",
              "        \n",
              "    \n",
              "            var popup_e90e9cca121aa1e18ea98539549f222e = L.popup({maxWidth: &#x27;100%&#x27;\n",
              "            \n",
              "            });\n",
              "\n",
              "            \n",
              "                var html_577576e27f2d68f2c57797f4e174176a = $(`&lt;div id=&quot;html_577576e27f2d68f2c57797f4e174176a&quot; style=&quot;width: 100.0%; height: 100.0%;&quot;&gt;点心爛漫 Tejima&lt;/div&gt;`)[0];\n",
              "                popup_e90e9cca121aa1e18ea98539549f222e.setContent(html_577576e27f2d68f2c57797f4e174176a);\n",
              "            \n",
              "\n",
              "            marker_a07056385f7d8a2c5598205fafd329aa.bindPopup(popup_e90e9cca121aa1e18ea98539549f222e)\n",
              "            ;\n",
              "\n",
              "            \n",
              "        \n",
              "    \n",
              "        var marker_373569d0c48b8acc72e3444555c3ade5 = L.marker(\n",
              "            [35.6786625911, 139.7698007551],\n",
              "            {\n",
              "                icon: new L.Icon.Default(),\n",
              "                }\n",
              "            ).addTo(map_4546a1de56cf48831fafc96a2c56f2de);\n",
              "        \n",
              "    \n",
              "            var popup_87380064024d211d62301f55f3fee15f = L.popup({maxWidth: &#x27;100%&#x27;\n",
              "            \n",
              "            });\n",
              "\n",
              "            \n",
              "                var html_78a2a33dda5a6d5b92f927103e40ec8a = $(`&lt;div id=&quot;html_78a2a33dda5a6d5b92f927103e40ec8a&quot; style=&quot;width: 100.0%; height: 100.0%;&quot;&gt;龍記 東京八重洲 日本橋店&lt;/div&gt;`)[0];\n",
              "                popup_87380064024d211d62301f55f3fee15f.setContent(html_78a2a33dda5a6d5b92f927103e40ec8a);\n",
              "            \n",
              "\n",
              "            marker_373569d0c48b8acc72e3444555c3ade5.bindPopup(popup_87380064024d211d62301f55f3fee15f)\n",
              "            ;\n",
              "\n",
              "            \n",
              "        \n",
              "    \n",
              "        var marker_ee23ff98851376f4e18281124a1be95b = L.marker(\n",
              "            [35.6590633113, 139.3377655371],\n",
              "            {\n",
              "                icon: new L.Icon.Default(),\n",
              "                }\n",
              "            ).addTo(map_4546a1de56cf48831fafc96a2c56f2de);\n",
              "        \n",
              "    \n",
              "            var popup_5797bbf78398b222ad35959d1290d2dd = L.popup({maxWidth: &#x27;100%&#x27;\n",
              "            \n",
              "            });\n",
              "\n",
              "            \n",
              "                var html_20dd2454dadf7417e097a6402ef33c30 = $(`&lt;div id=&quot;html_20dd2454dadf7417e097a6402ef33c30&quot; style=&quot;width: 100.0%; height: 100.0%;&quot;&gt;魯肉ボーイと麻婆ガール&lt;/div&gt;`)[0];\n",
              "                popup_5797bbf78398b222ad35959d1290d2dd.setContent(html_20dd2454dadf7417e097a6402ef33c30);\n",
              "            \n",
              "\n",
              "            marker_ee23ff98851376f4e18281124a1be95b.bindPopup(popup_5797bbf78398b222ad35959d1290d2dd)\n",
              "            ;\n",
              "\n",
              "            \n",
              "        \n",
              "    \n",
              "        var marker_ade516380f922bb97b8b95ca7d3ff416 = L.marker(\n",
              "            [35.6289760669, 139.7425897812],\n",
              "            {\n",
              "                icon: new L.Icon.Default(),\n",
              "                }\n",
              "            ).addTo(map_4546a1de56cf48831fafc96a2c56f2de);\n",
              "        \n",
              "    \n",
              "            var popup_1d64f27facb3d4e30e691e64d1d65a0f = L.popup({maxWidth: &#x27;100%&#x27;\n",
              "            \n",
              "            });\n",
              "\n",
              "            \n",
              "                var html_f21b8b3060531fd3015c9f23a6e8a420 = $(`&lt;div id=&quot;html_f21b8b3060531fd3015c9f23a6e8a420&quot; style=&quot;width: 100.0%; height: 100.0%;&quot;&gt;大品川中華街 品川店&lt;/div&gt;`)[0];\n",
              "                popup_1d64f27facb3d4e30e691e64d1d65a0f.setContent(html_f21b8b3060531fd3015c9f23a6e8a420);\n",
              "            \n",
              "\n",
              "            marker_ade516380f922bb97b8b95ca7d3ff416.bindPopup(popup_1d64f27facb3d4e30e691e64d1d65a0f)\n",
              "            ;\n",
              "\n",
              "            \n",
              "        \n",
              "    \n",
              "        var marker_e890dcb20312dad019c5222ff2bb86ec = L.marker(\n",
              "            [35.7124401113, 139.7777281677],\n",
              "            {\n",
              "                icon: new L.Icon.Default(),\n",
              "                }\n",
              "            ).addTo(map_4546a1de56cf48831fafc96a2c56f2de);\n",
              "        \n",
              "    \n",
              "            var popup_7ac4dde63462c4a5d2781d2d603b9900 = L.popup({maxWidth: &#x27;100%&#x27;\n",
              "            \n",
              "            });\n",
              "\n",
              "            \n",
              "                var html_12f4659f3f5c863f649e369b2733e38b = $(`&lt;div id=&quot;html_12f4659f3f5c863f649e369b2733e38b&quot; style=&quot;width: 100.0%; height: 100.0%;&quot;&gt;美健食道 三羊開泰 さんようかいたい 上野店&lt;/div&gt;`)[0];\n",
              "                popup_7ac4dde63462c4a5d2781d2d603b9900.setContent(html_12f4659f3f5c863f649e369b2733e38b);\n",
              "            \n",
              "\n",
              "            marker_e890dcb20312dad019c5222ff2bb86ec.bindPopup(popup_7ac4dde63462c4a5d2781d2d603b9900)\n",
              "            ;\n",
              "\n",
              "            \n",
              "        \n",
              "&lt;/script&gt;\" style=\"position:absolute;width:100%;height:100%;left:0;top:0;border:none !important;\" allowfullscreen webkitallowfullscreen mozallowfullscreen></iframe></div></div>"
            ]
          },
          "metadata": {},
          "execution_count": 9
        }
      ]
    },
    {
      "cell_type": "code",
      "source": [
        "for i in range(int(data_num)):\n",
        "  print(restaurant_address[i])"
      ],
      "metadata": {
        "colab": {
          "base_uri": "https://localhost:8080/"
        },
        "id": "gIvNw1cf3gYH",
        "outputId": "ca0fb94d-2ab7-4148-fcdf-fdc041a6991a"
      },
      "execution_count": 56,
      "outputs": [
        {
          "output_type": "stream",
          "name": "stdout",
          "text": [
            "東京都新宿区新宿３－１１－１１　ダイアン新宿ビル7F　（交差点角の1階が松屋のビル7階）\n",
            "東京都港区港南２-2-10鳳和ビル3F\n",
            "東京都八王子市横山町7-12\n",
            "東京都町田市木曽東３－３３－６\n",
            "東京都新宿区歌舞伎町１－１８－８第一モナビル４Ｆ\n",
            "東京都中央区銀座７－２－２０  パシフィック銀座ビル7階\n",
            "東京都中央区京橋１-4-13　初音ビル\n",
            "東京都中央区京橋３-3-13　平和ビル3号館2F\n",
            "東京都立川市柴崎町３丁目5-11ソシアルビル１F\n",
            "東京都台東区上野７‐３‐２ TSDビル2F\n"
          ]
        }
      ]
    },
    {
      "cell_type": "code",
      "source": [
        ""
      ],
      "metadata": {
        "id": "XfC5zclxLI_7"
      },
      "execution_count": null,
      "outputs": []
    },
    {
      "cell_type": "code",
      "source": [
        ""
      ],
      "metadata": {
        "id": "GNc65d2jLJDd"
      },
      "execution_count": null,
      "outputs": []
    },
    {
      "cell_type": "code",
      "source": [
        ""
      ],
      "metadata": {
        "id": "t7rE9hkVsX-i"
      },
      "execution_count": null,
      "outputs": []
    },
    {
      "cell_type": "code",
      "source": [
        ""
      ],
      "metadata": {
        "id": "3xRPDjC9cHGC"
      },
      "execution_count": null,
      "outputs": []
    },
    {
      "cell_type": "code",
      "source": [
        ""
      ],
      "metadata": {
        "id": "xNTJ4HgEcHIX"
      },
      "execution_count": null,
      "outputs": []
    },
    {
      "cell_type": "code",
      "source": [
        ""
      ],
      "metadata": {
        "id": "aOGFraeKcHLG"
      },
      "execution_count": null,
      "outputs": []
    },
    {
      "cell_type": "code",
      "source": [
        ""
      ],
      "metadata": {
        "id": "skegNIkfcHOa"
      },
      "execution_count": null,
      "outputs": []
    },
    {
      "cell_type": "code",
      "source": [
        ""
      ],
      "metadata": {
        "id": "zTpFHr-RVesc"
      },
      "execution_count": null,
      "outputs": []
    },
    {
      "cell_type": "code",
      "source": [
        ""
      ],
      "metadata": {
        "id": "hdR9DQWaVevl"
      },
      "execution_count": null,
      "outputs": []
    }
  ]
}